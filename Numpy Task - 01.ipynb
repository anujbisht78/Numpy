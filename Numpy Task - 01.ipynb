{
 "cells": [
  {
   "cell_type": "code",
   "execution_count": 2,
   "id": "b621fb8d",
   "metadata": {},
   "outputs": [],
   "source": [
    "import numpy as np"
   ]
  },
  {
   "cell_type": "markdown",
   "id": "f6ece923",
   "metadata": {},
   "source": [
    "### `Q-1:` Create a null vector of size 10 but the fifth value which is 1."
   ]
  },
  {
   "cell_type": "code",
   "execution_count": 3,
   "id": "2b4eb853",
   "metadata": {},
   "outputs": [],
   "source": [
    "a=np.nan*np.arange(10)"
   ]
  },
  {
   "cell_type": "code",
   "execution_count": 4,
   "id": "65661ec2",
   "metadata": {},
   "outputs": [
    {
     "data": {
      "text/plain": [
       "array([nan, nan, nan, nan, nan, nan, nan, nan, nan, nan])"
      ]
     },
     "execution_count": 4,
     "metadata": {},
     "output_type": "execute_result"
    }
   ],
   "source": [
    "a"
   ]
  },
  {
   "cell_type": "code",
   "execution_count": 5,
   "id": "291e4cf0",
   "metadata": {},
   "outputs": [],
   "source": [
    "a[4]=1"
   ]
  },
  {
   "cell_type": "code",
   "execution_count": 6,
   "id": "6a3bce1a",
   "metadata": {},
   "outputs": [
    {
     "data": {
      "text/plain": [
       "array([nan, nan, nan, nan,  1., nan, nan, nan, nan, nan])"
      ]
     },
     "execution_count": 6,
     "metadata": {},
     "output_type": "execute_result"
    }
   ],
   "source": [
    "a"
   ]
  },
  {
   "cell_type": "markdown",
   "id": "56178d5d",
   "metadata": {},
   "source": [
    "### `Q-2:` Ask user to input two numbers a, b. Write a program to generate a random array of shape (a, b) and print the array and avg of the array."
   ]
  },
  {
   "cell_type": "code",
   "execution_count": 8,
   "id": "da7a5c40",
   "metadata": {},
   "outputs": [
    {
     "name": "stdout",
     "output_type": "stream",
     "text": [
      "Enter the 2 numbers:  4 3\n",
      "[[0.50635756 0.22860832 0.01733715]\n",
      " [0.54228133 0.83387712 0.71696291]\n",
      " [0.57491928 0.32508423 0.27115315]\n",
      " [0.02687666 0.26398324 0.78585067]]\n",
      "0.42444096871326714\n"
     ]
    }
   ],
   "source": [
    "(a,b)=map(int,input(\"Enter the 2 numbers: \").split())\n",
    "\n",
    "a1=np.random.random((a,b))\n",
    "print(a1)\n",
    "print(np.mean(a1))"
   ]
  },
  {
   "cell_type": "markdown",
   "id": "63683b11",
   "metadata": {},
   "source": [
    "### `Q-3:` Write a function to create a 2d array with 1 on the border and 0 inside. Take 2-D array shape as (a,b) as parameter to function."
   ]
  },
  {
   "cell_type": "code",
   "execution_count": 9,
   "id": "07b7b959",
   "metadata": {},
   "outputs": [],
   "source": [
    "# Example :\n",
    "# [[1,1,1,1],\n",
    "# [1,0,0,1],\n",
    "# [1,0,0,1],\n",
    "# [1,1,1,1]]"
   ]
  },
  {
   "cell_type": "code",
   "execution_count": 10,
   "id": "f9384c9e",
   "metadata": {},
   "outputs": [
    {
     "data": {
      "text/plain": [
       "array([[1., 1., 1., 1.],\n",
       "       [1., 0., 0., 1.],\n",
       "       [1., 0., 0., 1.],\n",
       "       [1., 1., 1., 1.]])"
      ]
     },
     "execution_count": 10,
     "metadata": {},
     "output_type": "execute_result"
    }
   ],
   "source": [
    "def array(a,b):\n",
    "    x=np.ones((a,b))\n",
    "    x[1:3,1:3]=0\n",
    "    \n",
    "    return x\n",
    "array(4,4)"
   ]
  },
  {
   "cell_type": "markdown",
   "id": "55ca0122",
   "metadata": {},
   "source": [
    "### `Q-4:` Create a vector of size 10 with values ranging from 0 to 1, both excluded."
   ]
  },
  {
   "cell_type": "code",
   "execution_count": 11,
   "id": "78d6bb44",
   "metadata": {},
   "outputs": [
    {
     "data": {
      "text/plain": [
       "array([0.11111111, 0.22222222, 0.33333333, 0.44444444, 0.55555556,\n",
       "       0.66666667, 0.77777778, 0.88888889])"
      ]
     },
     "execution_count": 11,
     "metadata": {},
     "output_type": "execute_result"
    }
   ],
   "source": [
    "np.linspace(0,1,10)[1:-1]"
   ]
  },
  {
   "cell_type": "markdown",
   "id": "67a32ee4",
   "metadata": {},
   "source": [
    "### `Q-5:` Can you create a identity mattrix of shape (3,4). If yes write code for it."
   ]
  },
  {
   "cell_type": "code",
   "execution_count": 12,
   "id": "b6d57fa6",
   "metadata": {},
   "outputs": [
    {
     "data": {
      "text/plain": [
       "array([[1., 0., 0., 0.],\n",
       "       [0., 1., 0., 0.],\n",
       "       [0., 0., 1., 0.],\n",
       "       [0., 0., 0., 1.]])"
      ]
     },
     "execution_count": 12,
     "metadata": {},
     "output_type": "execute_result"
    }
   ],
   "source": [
    "#Code here\n",
    "# Identity matricx is a square mattrix, means no of rows and columns will always be same.\n",
    "# Here shape given 3,4 so identuty matrix not possible.\n",
    "\n",
    "#Identy matrix of size 3-- 3X3\n",
    "np.eye(3)\n",
    "\n",
    "#Identy matrix of size 4-- 4X4\n",
    "np.identity(4)\n",
    "\n",
    "# eye and identity are same."
   ]
  },
  {
   "cell_type": "markdown",
   "id": "dec0a197",
   "metadata": {},
   "source": [
    "### `Q-6:` Create a 5x5 matrix with row values ranging from 0 to 4."
   ]
  },
  {
   "cell_type": "code",
   "execution_count": 13,
   "id": "f9099449",
   "metadata": {},
   "outputs": [
    {
     "data": {
      "text/plain": [
       "array([[0., 1., 2., 3., 4.],\n",
       "       [0., 1., 2., 3., 4.],\n",
       "       [0., 1., 2., 3., 4.],\n",
       "       [0., 1., 2., 3., 4.],\n",
       "       [0., 1., 2., 3., 4.]])"
      ]
     },
     "execution_count": 13,
     "metadata": {},
     "output_type": "execute_result"
    }
   ],
   "source": [
    "z=np.zeros((5,5))\n",
    "z+=np.arange(5)\n",
    "z"
   ]
  },
  {
   "cell_type": "markdown",
   "id": "ecdec77c",
   "metadata": {},
   "source": [
    "### `Q-7:` Consider a (6,7,8) shape array, what is the index (x,y,z) of the 100th element?"
   ]
  },
  {
   "cell_type": "code",
   "execution_count": 14,
   "id": "2904cfb0",
   "metadata": {},
   "outputs": [
    {
     "data": {
      "text/plain": [
       "(1, 5, 4)"
      ]
     },
     "execution_count": 14,
     "metadata": {},
     "output_type": "execute_result"
    }
   ],
   "source": [
    "np.unravel_index(100,(6,7,8))"
   ]
  },
  {
   "cell_type": "markdown",
   "id": "0318427a",
   "metadata": {},
   "source": [
    "### `Q-8:` Arrays"
   ]
  },
  {
   "cell_type": "markdown",
   "id": "df776fbb",
   "metadata": {},
   "source": [
    "You are given a space separated list of numbers. Your task is to print a reversed NumPy array with the element type float.\n",
    "\n",
    "**Input Format:**\n",
    "\n",
    "A single line of input containing space separated numbers.\n",
    "\n",
    "**Output Format:**\n",
    "\n",
    "Print the reverse NumPy array with type float.\n",
    "\n",
    "**Example 1:**\n",
    "\n",
    "Input:\n",
    "\n",
    "```bash\n",
    "1 2 3 4 -8 -10\n",
    "```\n",
    "\n",
    "Output:\n",
    "\n",
    "```bash\n",
    "[-10.  -8.   4.   3.   2.   1.]\n",
    "```"
   ]
  },
  {
   "cell_type": "code",
   "execution_count": 32,
   "id": "78a4e08b",
   "metadata": {},
   "outputs": [
    {
     "name": "stdout",
     "output_type": "stream",
     "text": [
      "Enter an array: 1 2 3 4 -8 -10\n"
     ]
    },
    {
     "data": {
      "text/plain": [
       "array([-10.,  -8.,   4.,   3.,   2.,   1.])"
      ]
     },
     "execution_count": 32,
     "metadata": {},
     "output_type": "execute_result"
    }
   ],
   "source": [
    "a=list(map(int,input(\"Enter an array: \").split()))\n",
    "np.flip(a).astype(float)"
   ]
  },
  {
   "cell_type": "markdown",
   "id": "29c37734",
   "metadata": {},
   "source": [
    "### `Q-9:` Elements count\n",
    "\n",
    "Count the number of elements of a numpy array."
   ]
  },
  {
   "cell_type": "markdown",
   "id": "aca14d13",
   "metadata": {},
   "source": [
    "**Example 1:**\n",
    "\n",
    "Input:\n",
    "```bash\n",
    "np.array([])\n",
    "```\n",
    "\n",
    "Output:\n",
    "```bash\n",
    "elements_count :  0\n",
    "```\n",
    "\n",
    "**Example 2:**\n",
    "\n",
    "Input:\n",
    "```bash\n",
    "np.array([1, 2])\n",
    "```\n",
    "\n",
    "Output:\n",
    "```bash\n",
    "elements_count :  2\n",
    "```"
   ]
  },
  {
   "cell_type": "code",
   "execution_count": 35,
   "id": "fe2d6e03",
   "metadata": {},
   "outputs": [
    {
     "data": {
      "text/plain": [
       "6"
      ]
     },
     "execution_count": 35,
     "metadata": {},
     "output_type": "execute_result"
    }
   ],
   "source": [
    "a = np.array([])\n",
    "a = np.array([1, 2])\n",
    "a = np.zeros((2,3))\n",
    "a.size"
   ]
  },
  {
   "cell_type": "markdown",
   "id": "7def4808",
   "metadata": {},
   "source": [
    "### `Q-10:` Softmax function\n",
    "\n",
    "Create a Python function to calculate the Softmax of the given numpy 1D array. The function only accepts the numpy 1D array, otherwise raise error.\n",
    "\n",
    "$$\\Large \\sigma(\\vec z)_i = \\frac{e^{z_i}}{\\sum_{j=i}^{K}{e^{z_j}}}$$\n",
    "\n",
    "https://en.wikipedia.org/wiki/Softmax_function"
   ]
  },
  {
   "cell_type": "code",
   "execution_count": 38,
   "id": "71eed62d",
   "metadata": {},
   "outputs": [
    {
     "data": {
      "text/plain": [
       "array([2.43733248e-01, 2.56112114e-22, 1.41628283e-17, 7.56266752e-01,\n",
       "       5.05514197e-22, 1.50974911e-22])"
      ]
     },
     "execution_count": 38,
     "metadata": {},
     "output_type": "execute_result"
    }
   ],
   "source": [
    "def softmax(arr):\n",
    "    if type(arr) != np.ndarray:\n",
    "        raise TypeError(\"Requires Numpy Array\")\n",
    "    elif arr.ndim > 1:\n",
    "        raise TypeError(\"Requires 1D Array\")\n",
    "    s = np.sum(np.exp(arr))\n",
    "    return np.exp(arr)/s\n",
    "softmax(np.array([86.03331084, 37.7285648,  48.64908087, 87.16563062, 38.40852563, 37.20006318]))"
   ]
  },
  {
   "cell_type": "markdown",
   "id": "068f4432",
   "metadata": {},
   "source": [
    "### `Q-11:` Vertical stack\n",
    "\n",
    "Write a python function that accepts infinite number of numpy arrays and do the vertical stack to them. Then return that new array as result. The function only accepts the numpy array, otherwise raise error."
   ]
  },
  {
   "cell_type": "markdown",
   "id": "991d641b",
   "metadata": {},
   "source": [
    "**Example 1:**\n",
    "\n",
    "Input:\n",
    "```bash\n",
    "a= [[0 1 2 3 4]\n",
    " [5 6 7 8 9]]\n",
    "\n",
    "b= [[1 1 1 1 1]\n",
    " [1 1 1 1 1]]\n",
    "```\n",
    "\n",
    "Output:\n",
    "\n",
    "```bash\n",
    "[[0 1 2 3 4]\n",
    " [5 6 7 8 9]\n",
    " [1 1 1 1 1]\n",
    " [1 1 1 1 1]]\n",
    "```\n",
    "\n",
    "**Example 2:**\n",
    "\n",
    "Input:\n",
    "```bash\n",
    "a= [[0 1 2 3 4]\n",
    " [5 6 7 8 9]]\n",
    "\n",
    "b= [[1 1 1 1 1]\n",
    " [1 1 1 1 1]]\n",
    "\n",
    "c= [[0.10117373 0.1677244  0.73764059 0.83166097 0.48985695]\n",
    " [0.44581567 0.13502419 0.55692335 0.16479622 0.61193593]] \n",
    "```\n",
    "\n",
    "Output:\n",
    "```bash\n",
    "[[0.         1.         2.         3.         4.        ]\n",
    " [5.         6.         7.         8.         9.        ]\n",
    " [1.         1.         1.         1.         1.        ]\n",
    " [1.         1.         1.         1.         1.        ]\n",
    " [0.10117373 0.1677244  0.73764059 0.83166097 0.48985695]\n",
    " [0.44581567 0.13502419 0.55692335 0.16479622 0.61193593]]\n",
    "```"
   ]
  },
  {
   "cell_type": "code",
   "execution_count": 40,
   "id": "6806e1fc",
   "metadata": {},
   "outputs": [],
   "source": [
    "def vertical_stack(*args):\n",
    "    for i in args:\n",
    "        if type(i)!=np.ndarray:\n",
    "            raise TypeError (\"Requires Numpy Array\")\n",
    "    return np.vstack(args)"
   ]
  },
  {
   "cell_type": "code",
   "execution_count": 44,
   "id": "0c0bc053",
   "metadata": {},
   "outputs": [
    {
     "name": "stdout",
     "output_type": "stream",
     "text": [
      "[[0 1 2 3 4]\n",
      " [5 6 7 8 9]\n",
      " [1 1 1 1 1]\n",
      " [1 1 1 1 1]]\n"
     ]
    }
   ],
   "source": [
    "a=np.arange(10).reshape(2,-1)\n",
    "b=np.repeat(1,10).reshape(2,-1)\n",
    "\n",
    "print(vertical_stack(a,b))"
   ]
  },
  {
   "cell_type": "code",
   "execution_count": 45,
   "id": "8c60b2a1",
   "metadata": {},
   "outputs": [
    {
     "name": "stdout",
     "output_type": "stream",
     "text": [
      "[[0.         1.         2.         3.         4.        ]\n",
      " [5.         6.         7.         8.         9.        ]\n",
      " [1.         1.         1.         1.         1.        ]\n",
      " [1.         1.         1.         1.         1.        ]\n",
      " [0.24407454 0.74918179 0.32210803 0.85349774 0.96707219]\n",
      " [0.73515723 0.73942895 0.8973201  0.13303242 0.57520822]]\n"
     ]
    }
   ],
   "source": [
    "c=np.random.random((2,5))\n",
    "print(vertical_stack(a,b,c))"
   ]
  },
  {
   "cell_type": "markdown",
   "id": "6ce35cb8",
   "metadata": {},
   "source": [
    "### `Q-12:` Subtract the mean of each row from a matrix."
   ]
  },
  {
   "cell_type": "code",
   "execution_count": 48,
   "id": "a0c3a51d",
   "metadata": {},
   "outputs": [
    {
     "data": {
      "text/plain": [
       "array([[ 0,  1,  2,  3],\n",
       "       [ 4,  5,  6,  7],\n",
       "       [ 8,  9, 10, 11]])"
      ]
     },
     "execution_count": 48,
     "metadata": {},
     "output_type": "execute_result"
    }
   ],
   "source": [
    "a=np.arange(12).reshape(3,4)\n",
    "a"
   ]
  },
  {
   "cell_type": "code",
   "execution_count": 50,
   "id": "f9e0dbfc",
   "metadata": {},
   "outputs": [
    {
     "data": {
      "text/plain": [
       "array([[-5.5, -4.5, -3.5, -2.5],\n",
       "       [-1.5, -0.5,  0.5,  1.5],\n",
       "       [ 2.5,  3.5,  4.5,  5.5]])"
      ]
     },
     "execution_count": 50,
     "metadata": {},
     "output_type": "execute_result"
    }
   ],
   "source": [
    "a-np.mean(a,keepdims=True)"
   ]
  },
  {
   "cell_type": "markdown",
   "id": "9d1a187f",
   "metadata": {},
   "source": [
    "### `Q-13:` Swap column-1 of array with column-2 in the array."
   ]
  },
  {
   "cell_type": "code",
   "execution_count": 51,
   "id": "0a7fa1b6",
   "metadata": {},
   "outputs": [
    {
     "data": {
      "text/plain": [
       "array([[0, 1, 2],\n",
       "       [3, 4, 5],\n",
       "       [6, 7, 8]])"
      ]
     },
     "execution_count": 51,
     "metadata": {},
     "output_type": "execute_result"
    }
   ],
   "source": [
    "x=np.arange(9).reshape(3,3)\n",
    "x"
   ]
  },
  {
   "cell_type": "code",
   "execution_count": 52,
   "id": "a2078cec",
   "metadata": {},
   "outputs": [
    {
     "data": {
      "text/plain": [
       "array([[0, 2, 1],\n",
       "       [3, 5, 4],\n",
       "       [6, 8, 7]])"
      ]
     },
     "execution_count": 52,
     "metadata": {},
     "output_type": "execute_result"
    }
   ],
   "source": [
    "x[:,[0,2,1]]"
   ]
  },
  {
   "cell_type": "markdown",
   "id": "a64e28e1",
   "metadata": {},
   "source": [
    "### `Q-14:` Replace odd elements in arrays with -1."
   ]
  },
  {
   "cell_type": "code",
   "execution_count": 53,
   "id": "7f466aa6",
   "metadata": {},
   "outputs": [
    {
     "data": {
      "text/plain": [
       "array([37, 83, 70, 34, 59,  7, 78, 10, 10, 72, 25, 81, 97, 69, 10, 35, 63,\n",
       "       50, 40, 92])"
      ]
     },
     "execution_count": 53,
     "metadata": {},
     "output_type": "execute_result"
    }
   ],
   "source": [
    "a=np.random.randint(1,100,20)\n",
    "a"
   ]
  },
  {
   "cell_type": "code",
   "execution_count": 55,
   "id": "9a3825ee",
   "metadata": {},
   "outputs": [],
   "source": [
    "a[a%2!=0]=-1"
   ]
  },
  {
   "cell_type": "code",
   "execution_count": 56,
   "id": "d7891e64",
   "metadata": {},
   "outputs": [
    {
     "data": {
      "text/plain": [
       "array([-1, -1, 70, 34, -1, -1, 78, 10, 10, 72, -1, -1, -1, -1, 10, -1, -1,\n",
       "       50, 40, 92])"
      ]
     },
     "execution_count": 56,
     "metadata": {},
     "output_type": "execute_result"
    }
   ],
   "source": [
    "a"
   ]
  },
  {
   "cell_type": "markdown",
   "id": "409af050",
   "metadata": {},
   "source": [
    "### `Q-15:` Given two arrays of same shape make an array of max out of two arrays. (Numpy way)\n",
    "```\n",
    "a=np.array([6,3,1,5,8])\n",
    "b=np.array([3,2,1,7,2])\n",
    "\n",
    "Result-> [6 3 1 7 8]\n",
    "``` "
   ]
  },
  {
   "cell_type": "code",
   "execution_count": 70,
   "id": "cafefe28",
   "metadata": {},
   "outputs": [],
   "source": [
    "a=np.array([6,3,1,5,8])\n",
    "b=np.array([3,2,1,7,2])\n",
    "\n",
    "a[b>a]=b[a<b]"
   ]
  },
  {
   "cell_type": "code",
   "execution_count": 71,
   "id": "834cd063",
   "metadata": {},
   "outputs": [
    {
     "data": {
      "text/plain": [
       "array([6, 3, 1, 7, 8])"
      ]
     },
     "execution_count": 71,
     "metadata": {},
     "output_type": "execute_result"
    }
   ],
   "source": [
    "a"
   ]
  },
  {
   "cell_type": "markdown",
   "id": "973053fc",
   "metadata": {},
   "source": [
    "### `Q-16` Answer below asked questions on given array:\n",
    "1. Fetch Every alternate column of the array\n",
    "2. Normalise the given array\n",
    "\n",
    "https://en.wikipedia.org/wiki/Normalization_(statistics)\n",
    "\n",
    "There are different form of normalisation for this question use below formula.\n",
    "\n",
    "$$\\large X_{normalized} = \\frac{X - X_{min}}{X_{max} - X_{min}}$$\n",
    "\n",
    "```python\n",
    "arr1=np.random.randint(low=1, high=10000, size=40).reshape(8,5)\n",
    "```"
   ]
  },
  {
   "cell_type": "code",
   "execution_count": 73,
   "id": "75576a37",
   "metadata": {},
   "outputs": [],
   "source": [
    "arr1=np.random.randint(low=1, high=10000, size=40).reshape(8,5)"
   ]
  },
  {
   "cell_type": "code",
   "execution_count": 74,
   "id": "6004df40",
   "metadata": {},
   "outputs": [
    {
     "data": {
      "text/plain": [
       "array([[3416, 3228, 7495, 7877, 7078],\n",
       "       [2757, 8139, 7469, 7122, 7935],\n",
       "       [4315, 4451, 8771, 4230, 2228],\n",
       "       [7741, 6110, 1213, 3752, 5793],\n",
       "       [8724, 8733, 7195, 2267, 8199],\n",
       "       [ 934, 6532, 5181, 2062,  183],\n",
       "       [1132, 3661, 6127, 7541,  988],\n",
       "       [4712, 4554, 6107, 9805, 4457]])"
      ]
     },
     "execution_count": 74,
     "metadata": {},
     "output_type": "execute_result"
    }
   ],
   "source": [
    "arr1"
   ]
  },
  {
   "cell_type": "code",
   "execution_count": 75,
   "id": "e83647bf",
   "metadata": {},
   "outputs": [
    {
     "data": {
      "text/plain": [
       "array([[3416, 7495, 7078],\n",
       "       [2757, 7469, 7935],\n",
       "       [4315, 8771, 2228],\n",
       "       [7741, 1213, 5793],\n",
       "       [8724, 7195, 8199],\n",
       "       [ 934, 5181,  183],\n",
       "       [1132, 6127,  988],\n",
       "       [4712, 6107, 4457]])"
      ]
     },
     "execution_count": 75,
     "metadata": {},
     "output_type": "execute_result"
    }
   ],
   "source": [
    "# Fetch Every alternate column of the array\n",
    "arr1[:,::2]"
   ]
  },
  {
   "cell_type": "code",
   "execution_count": 84,
   "id": "5b2b5bb7",
   "metadata": {},
   "outputs": [],
   "source": [
    "# Normalise the given array\n",
    "x=(arr1-np.min(arr1))/(np.max(arr1)-np.min(arr1))"
   ]
  },
  {
   "cell_type": "code",
   "execution_count": 85,
   "id": "58f2a10e",
   "metadata": {},
   "outputs": [
    {
     "data": {
      "text/plain": [
       "array([[0.33600083, 0.31646227, 0.75992517, 0.79962586, 0.71658699],\n",
       "       [0.26751195, 0.82685512, 0.75722303, 0.72115984, 0.80565371],\n",
       "       [0.42943255, 0.44356683, 0.89253793, 0.42059863, 0.21253378],\n",
       "       [0.78549158, 0.6159842 , 0.10704635, 0.37092081, 0.58303887],\n",
       "       [0.88765329, 0.88858865, 0.72874662, 0.21658699, 0.83309083],\n",
       "       [0.0780503 , 0.65984203, 0.51943463, 0.19528165, 0.        ],\n",
       "       [0.09862814, 0.36146331, 0.61775099, 0.76470588, 0.08366244],\n",
       "       [0.47069216, 0.45427146, 0.61567242, 1.        , 0.4441904 ]])"
      ]
     },
     "execution_count": 85,
     "metadata": {},
     "output_type": "execute_result"
    }
   ],
   "source": [
    "x"
   ]
  },
  {
   "cell_type": "markdown",
   "id": "9cf3da37",
   "metadata": {},
   "source": [
    "### `Q-17:` Write a function which will accept 2 arguments.\n",
    "First: A 1D numpy array arr\n",
    "\n",
    "Second: An integer n {Please make sure n<=len(arr)}\n",
    "\n",
    "Output: The output should be the nth largest item out of the array\n",
    "```\n",
    "# Example1 : arr=(12,34,40,7,1,0) and n=3, the output should be 12\n",
    "# Example2 : arr=(12,34,40,7,1,0) and n=1, the output should be 40\n",
    "```"
   ]
  },
  {
   "cell_type": "code",
   "execution_count": 86,
   "id": "cf663a46",
   "metadata": {},
   "outputs": [],
   "source": [
    "def func(arr,n):\n",
    "    arr.sort()\n",
    "    if n<=len(arr):\n",
    "        return arr[-n]"
   ]
  },
  {
   "cell_type": "code",
   "execution_count": 87,
   "id": "e3e776ed",
   "metadata": {},
   "outputs": [
    {
     "data": {
      "text/plain": [
       "12"
      ]
     },
     "execution_count": 87,
     "metadata": {},
     "output_type": "execute_result"
    }
   ],
   "source": [
    "func([12,34,40,7,1,0],3)"
   ]
  },
  {
   "cell_type": "code",
   "execution_count": 88,
   "id": "da1606b2",
   "metadata": {},
   "outputs": [
    {
     "data": {
      "text/plain": [
       "40"
      ]
     },
     "execution_count": 88,
     "metadata": {},
     "output_type": "execute_result"
    }
   ],
   "source": [
    "func([12,34,40,7,1,0],1)"
   ]
  }
 ],
 "metadata": {
  "kernelspec": {
   "display_name": "Python 3 (ipykernel)",
   "language": "python",
   "name": "python3"
  },
  "language_info": {
   "codemirror_mode": {
    "name": "ipython",
    "version": 3
   },
   "file_extension": ".py",
   "mimetype": "text/x-python",
   "name": "python",
   "nbconvert_exporter": "python",
   "pygments_lexer": "ipython3",
   "version": "3.9.7"
  }
 },
 "nbformat": 4,
 "nbformat_minor": 5
}
