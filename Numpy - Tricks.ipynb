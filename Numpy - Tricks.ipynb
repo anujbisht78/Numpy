{
 "cells": [
  {
   "cell_type": "code",
   "execution_count": 1,
   "id": "023dacf1",
   "metadata": {},
   "outputs": [],
   "source": [
    "import numpy as np"
   ]
  },
  {
   "cell_type": "markdown",
   "id": "bf9dc5c6",
   "metadata": {},
   "source": [
    "np.sort : for sorting the array"
   ]
  },
  {
   "cell_type": "code",
   "execution_count": 2,
   "id": "0c871773",
   "metadata": {},
   "outputs": [
    {
     "data": {
      "text/plain": [
       "array([71, 60, 24, 53, 94, 56, 80, 46, 20, 28, 80, 83, 29, 64, 72, 19, 34,\n",
       "       74, 57, 29])"
      ]
     },
     "execution_count": 2,
     "metadata": {},
     "output_type": "execute_result"
    }
   ],
   "source": [
    "a=np.random.randint(10,100,20)\n",
    "a"
   ]
  },
  {
   "cell_type": "code",
   "execution_count": 3,
   "id": "0bbacdb1",
   "metadata": {},
   "outputs": [
    {
     "data": {
      "text/plain": [
       "array([19, 20, 24, 28, 29, 29, 34, 46, 53, 56, 57, 60, 64, 71, 72, 74, 80,\n",
       "       80, 83, 94])"
      ]
     },
     "execution_count": 3,
     "metadata": {},
     "output_type": "execute_result"
    }
   ],
   "source": [
    "np.sort(a)"
   ]
  },
  {
   "cell_type": "code",
   "execution_count": 4,
   "id": "914e580a",
   "metadata": {},
   "outputs": [
    {
     "data": {
      "text/plain": [
       "array([94, 83, 80, 80, 74, 72, 71, 64, 60, 57, 56, 53, 46, 34, 29, 29, 28,\n",
       "       24, 20, 19])"
      ]
     },
     "execution_count": 4,
     "metadata": {},
     "output_type": "execute_result"
    }
   ],
   "source": [
    "# decending order\n",
    "np.sort(a)[::-1]"
   ]
  },
  {
   "cell_type": "code",
   "execution_count": 5,
   "id": "ece5653f",
   "metadata": {},
   "outputs": [
    {
     "data": {
      "text/plain": [
       "array([[38, 32, 21, 67],\n",
       "       [21, 95, 81, 45],\n",
       "       [46, 35, 42, 58],\n",
       "       [61, 32, 97, 68],\n",
       "       [31, 27, 76, 68]])"
      ]
     },
     "execution_count": 5,
     "metadata": {},
     "output_type": "execute_result"
    }
   ],
   "source": [
    "b=np.random.randint(10,100,20).reshape(5,4)\n",
    "b"
   ]
  },
  {
   "cell_type": "code",
   "execution_count": 6,
   "id": "09e14b29",
   "metadata": {},
   "outputs": [
    {
     "data": {
      "text/plain": [
       "array([[21, 32, 38, 67],\n",
       "       [21, 45, 81, 95],\n",
       "       [35, 42, 46, 58],\n",
       "       [32, 61, 68, 97],\n",
       "       [27, 31, 68, 76]])"
      ]
     },
     "execution_count": 6,
     "metadata": {},
     "output_type": "execute_result"
    }
   ],
   "source": [
    "# row-wise\n",
    "np.sort(b)"
   ]
  },
  {
   "cell_type": "code",
   "execution_count": 7,
   "id": "1a44e373",
   "metadata": {},
   "outputs": [
    {
     "data": {
      "text/plain": [
       "array([[21, 27, 21, 45],\n",
       "       [31, 32, 42, 58],\n",
       "       [38, 32, 76, 67],\n",
       "       [46, 35, 81, 68],\n",
       "       [61, 95, 97, 68]])"
      ]
     },
     "execution_count": 7,
     "metadata": {},
     "output_type": "execute_result"
    }
   ],
   "source": [
    "# column-wise\n",
    "np.sort(b,axis=0)"
   ]
  },
  {
   "cell_type": "markdown",
   "id": "ba0e96db",
   "metadata": {},
   "source": [
    "np.append : The numpy.append() appends values along the mentioned axis at the end of the array"
   ]
  },
  {
   "cell_type": "code",
   "execution_count": 8,
   "id": "e8a772c8",
   "metadata": {},
   "outputs": [
    {
     "data": {
      "text/plain": [
       "array([71, 60, 24, 53, 94, 56, 80, 46, 20, 28, 80, 83, 29, 64, 72, 19, 34,\n",
       "       74, 57, 29])"
      ]
     },
     "execution_count": 8,
     "metadata": {},
     "output_type": "execute_result"
    }
   ],
   "source": [
    "a"
   ]
  },
  {
   "cell_type": "code",
   "execution_count": 9,
   "id": "564721ae",
   "metadata": {},
   "outputs": [
    {
     "data": {
      "text/plain": [
       "array([ 71,  60,  24,  53,  94,  56,  80,  46,  20,  28,  80,  83,  29,\n",
       "        64,  72,  19,  34,  74,  57,  29, 200])"
      ]
     },
     "execution_count": 9,
     "metadata": {},
     "output_type": "execute_result"
    }
   ],
   "source": [
    "np.append(a,200)"
   ]
  },
  {
   "cell_type": "code",
   "execution_count": 10,
   "id": "4707d8aa",
   "metadata": {},
   "outputs": [
    {
     "data": {
      "text/plain": [
       "array([[38., 32., 21., 67.,  1.],\n",
       "       [21., 95., 81., 45.,  1.],\n",
       "       [46., 35., 42., 58.,  1.],\n",
       "       [61., 32., 97., 68.,  1.],\n",
       "       [31., 27., 76., 68.,  1.]])"
      ]
     },
     "execution_count": 10,
     "metadata": {},
     "output_type": "execute_result"
    }
   ],
   "source": [
    "# 2-D array\n",
    "np.append(b,np.ones((b.shape[0],1)),axis=1)"
   ]
  },
  {
   "cell_type": "markdown",
   "id": "b37776e3",
   "metadata": {},
   "source": [
    "np.concatenate : numpy.concatenate() function concatenate a sequence of arrays along an existing axis."
   ]
  },
  {
   "cell_type": "code",
   "execution_count": 11,
   "id": "cb188f1f",
   "metadata": {},
   "outputs": [
    {
     "name": "stdout",
     "output_type": "stream",
     "text": [
      "[[0 1 2]\n",
      " [3 4 5]]\n",
      "[[ 6  7  8]\n",
      " [ 9 10 11]]\n"
     ]
    }
   ],
   "source": [
    "c=np.arange(6).reshape(2,3)\n",
    "d=np.arange(6,12).reshape(2,3)\n",
    "\n",
    "print(c)\n",
    "print(d)"
   ]
  },
  {
   "cell_type": "code",
   "execution_count": 12,
   "id": "44ace8ba",
   "metadata": {},
   "outputs": [
    {
     "data": {
      "text/plain": [
       "array([[ 0,  1,  2],\n",
       "       [ 3,  4,  5],\n",
       "       [ 6,  7,  8],\n",
       "       [ 9, 10, 11]])"
      ]
     },
     "execution_count": 12,
     "metadata": {},
     "output_type": "execute_result"
    }
   ],
   "source": [
    "np.concatenate((c,d),axis=0)"
   ]
  },
  {
   "cell_type": "code",
   "execution_count": 13,
   "id": "5b3d4316",
   "metadata": {},
   "outputs": [
    {
     "data": {
      "text/plain": [
       "array([[ 0,  1,  2,  6,  7,  8],\n",
       "       [ 3,  4,  5,  9, 10, 11]])"
      ]
     },
     "execution_count": 13,
     "metadata": {},
     "output_type": "execute_result"
    }
   ],
   "source": [
    "# columns\n",
    "np.concatenate((c,d),axis=1)"
   ]
  },
  {
   "cell_type": "markdown",
   "id": "603decf3",
   "metadata": {},
   "source": [
    "np.unique : With the help of np.unique() method, we can get the unique values from an array given as parameter in np.unique() method."
   ]
  },
  {
   "cell_type": "code",
   "execution_count": 14,
   "id": "fe9bcfc4",
   "metadata": {},
   "outputs": [
    {
     "data": {
      "text/plain": [
       "array([1, 2, 3, 4, 5, 6])"
      ]
     },
     "execution_count": 14,
     "metadata": {},
     "output_type": "execute_result"
    }
   ],
   "source": [
    "e=np.array([1,1,1,2,2,2,3,3,4,4,5,5,5,6])\n",
    "np.unique(e)"
   ]
  },
  {
   "cell_type": "markdown",
   "id": "4c0fbdf4",
   "metadata": {},
   "source": [
    "np.expand_dims : With the help of Numpy.expand_dims() method, we can get the expanded dimensions of an array"
   ]
  },
  {
   "cell_type": "code",
   "execution_count": 15,
   "id": "457ad88d",
   "metadata": {},
   "outputs": [
    {
     "data": {
      "text/plain": [
       "array([71, 60, 24, 53, 94, 56, 80, 46, 20, 28, 80, 83, 29, 64, 72, 19, 34,\n",
       "       74, 57, 29])"
      ]
     },
     "execution_count": 15,
     "metadata": {},
     "output_type": "execute_result"
    }
   ],
   "source": [
    "a # 1-D array"
   ]
  },
  {
   "cell_type": "code",
   "execution_count": 16,
   "id": "d90f2dee",
   "metadata": {},
   "outputs": [
    {
     "data": {
      "text/plain": [
       "array([[71, 60, 24, 53, 94, 56, 80, 46, 20, 28, 80, 83, 29, 64, 72, 19,\n",
       "        34, 74, 57, 29]])"
      ]
     },
     "execution_count": 16,
     "metadata": {},
     "output_type": "execute_result"
    }
   ],
   "source": [
    "np.expand_dims(a,axis=0) # 2-D array "
   ]
  },
  {
   "cell_type": "markdown",
   "id": "6f646257",
   "metadata": {},
   "source": [
    "np.where : The numpy.where() function returns the indices of elements in an input array where the given condition is satisfied."
   ]
  },
  {
   "cell_type": "code",
   "execution_count": 17,
   "id": "371d55a2",
   "metadata": {},
   "outputs": [
    {
     "data": {
      "text/plain": [
       "array([71, 60, 24, 53, 94, 56, 80, 46, 20, 28, 80, 83, 29, 64, 72, 19, 34,\n",
       "       74, 57, 29])"
      ]
     },
     "execution_count": 17,
     "metadata": {},
     "output_type": "execute_result"
    }
   ],
   "source": [
    "a"
   ]
  },
  {
   "cell_type": "code",
   "execution_count": 18,
   "id": "2bb39810",
   "metadata": {},
   "outputs": [
    {
     "data": {
      "text/plain": [
       "(array([ 0,  1,  3,  4,  5,  6, 10, 11, 13, 14, 17, 18], dtype=int64),)"
      ]
     },
     "execution_count": 18,
     "metadata": {},
     "output_type": "execute_result"
    }
   ],
   "source": [
    "# give the indexes of those value which are greater than 50\n",
    "np.where(a>50)"
   ]
  },
  {
   "cell_type": "code",
   "execution_count": 19,
   "id": "dc31612f",
   "metadata": {},
   "outputs": [
    {
     "data": {
      "text/plain": [
       "array([ 0,  0, 24,  0,  0,  0,  0, 46, 20, 28,  0,  0, 29,  0,  0, 19, 34,\n",
       "        0,  0, 29])"
      ]
     },
     "execution_count": 19,
     "metadata": {},
     "output_type": "execute_result"
    }
   ],
   "source": [
    "# replacing the numbers with 0 which are greater than 50\n",
    "# np.where(condition,True,False)\n",
    "np.where(a>50,0,a)"
   ]
  },
  {
   "cell_type": "code",
   "execution_count": 20,
   "id": "c3585803",
   "metadata": {},
   "outputs": [
    {
     "data": {
      "text/plain": [
       "array([71,  0,  0, 53,  0,  0,  0,  0,  0,  0,  0, 83, 29,  0,  0, 19,  0,\n",
       "        0, 57, 29])"
      ]
     },
     "execution_count": 20,
     "metadata": {},
     "output_type": "execute_result"
    }
   ],
   "source": [
    "# replacing even numbers with 0\n",
    "np.where(a%2==0,0,a)"
   ]
  },
  {
   "cell_type": "markdown",
   "id": "4dacfcbc",
   "metadata": {},
   "source": [
    "np.argmax : The numpy.argmax() function returns indices of the max element of the array in a particular axis."
   ]
  },
  {
   "cell_type": "code",
   "execution_count": 21,
   "id": "d0b6e757",
   "metadata": {},
   "outputs": [
    {
     "data": {
      "text/plain": [
       "array([71, 60, 24, 53, 94, 56, 80, 46, 20, 28, 80, 83, 29, 64, 72, 19, 34,\n",
       "       74, 57, 29])"
      ]
     },
     "execution_count": 21,
     "metadata": {},
     "output_type": "execute_result"
    }
   ],
   "source": [
    "a"
   ]
  },
  {
   "cell_type": "code",
   "execution_count": 22,
   "id": "b3dd90a0",
   "metadata": {},
   "outputs": [
    {
     "data": {
      "text/plain": [
       "4"
      ]
     },
     "execution_count": 22,
     "metadata": {},
     "output_type": "execute_result"
    }
   ],
   "source": [
    "# calculating the index of max element\n",
    "np.argmax(a)"
   ]
  },
  {
   "cell_type": "code",
   "execution_count": 23,
   "id": "5c0e36e6",
   "metadata": {},
   "outputs": [
    {
     "data": {
      "text/plain": [
       "array([[38, 32, 21, 67],\n",
       "       [21, 95, 81, 45],\n",
       "       [46, 35, 42, 58],\n",
       "       [61, 32, 97, 68],\n",
       "       [31, 27, 76, 68]])"
      ]
     },
     "execution_count": 23,
     "metadata": {},
     "output_type": "execute_result"
    }
   ],
   "source": [
    "b"
   ]
  },
  {
   "cell_type": "code",
   "execution_count": 24,
   "id": "fcc506ca",
   "metadata": {},
   "outputs": [
    {
     "data": {
      "text/plain": [
       "array([3, 1, 3, 2, 2], dtype=int64)"
      ]
     },
     "execution_count": 24,
     "metadata": {},
     "output_type": "execute_result"
    }
   ],
   "source": [
    "np.argmax(b,axis=1)"
   ]
  },
  {
   "cell_type": "code",
   "execution_count": 25,
   "id": "5e8e2408",
   "metadata": {},
   "outputs": [
    {
     "data": {
      "text/plain": [
       "15"
      ]
     },
     "execution_count": 25,
     "metadata": {},
     "output_type": "execute_result"
    }
   ],
   "source": [
    "# argmin\n",
    "np.argmin(a)"
   ]
  },
  {
   "cell_type": "markdown",
   "id": "9c341828",
   "metadata": {},
   "source": [
    "np.cumsum : numpy.cumsum() function is used when we want to compute the cumulative sum of array elements over a given axis."
   ]
  },
  {
   "cell_type": "code",
   "execution_count": 26,
   "id": "70a0cd31",
   "metadata": {},
   "outputs": [
    {
     "data": {
      "text/plain": [
       "array([71, 60, 24, 53, 94, 56, 80, 46, 20, 28, 80, 83, 29, 64, 72, 19, 34,\n",
       "       74, 57, 29])"
      ]
     },
     "execution_count": 26,
     "metadata": {},
     "output_type": "execute_result"
    }
   ],
   "source": [
    "a"
   ]
  },
  {
   "cell_type": "code",
   "execution_count": 27,
   "id": "d3bb0498",
   "metadata": {},
   "outputs": [
    {
     "data": {
      "text/plain": [
       "array([  71,  131,  155,  208,  302,  358,  438,  484,  504,  532,  612,\n",
       "        695,  724,  788,  860,  879,  913,  987, 1044, 1073], dtype=int32)"
      ]
     },
     "execution_count": 27,
     "metadata": {},
     "output_type": "execute_result"
    }
   ],
   "source": [
    "np.cumsum(a)"
   ]
  },
  {
   "cell_type": "code",
   "execution_count": 28,
   "id": "6533ac9b",
   "metadata": {},
   "outputs": [
    {
     "data": {
      "text/plain": [
       "array([[ 38,  32,  21,  67],\n",
       "       [ 59, 127, 102, 112],\n",
       "       [105, 162, 144, 170],\n",
       "       [166, 194, 241, 238],\n",
       "       [197, 221, 317, 306]], dtype=int32)"
      ]
     },
     "execution_count": 28,
     "metadata": {},
     "output_type": "execute_result"
    }
   ],
   "source": [
    "np.cumsum(b,axis=0)"
   ]
  },
  {
   "cell_type": "code",
   "execution_count": 29,
   "id": "483ea43f",
   "metadata": {},
   "outputs": [
    {
     "data": {
      "text/plain": [
       "array([         71,        4260,      102240,     5418720,   509359680,\n",
       "       -1540628992,  1303732224,  -157859840,  1137770496,  1792802816,\n",
       "        1690304512, -1438646272,  1228931072,  1342177280, -2147483648,\n",
       "       -2147483648,           0,           0,           0,           0],\n",
       "      dtype=int32)"
      ]
     },
     "execution_count": 29,
     "metadata": {},
     "output_type": "execute_result"
    }
   ],
   "source": [
    "# cumprod : for multiplication\n",
    "np.cumprod(a)"
   ]
  },
  {
   "cell_type": "markdown",
   "id": "c7a7c8ed",
   "metadata": {},
   "source": [
    "np.percentile : numpy.percentile()function used to compute the nth percentile of the given data (array elements) along the specified axis."
   ]
  },
  {
   "cell_type": "code",
   "execution_count": 30,
   "id": "3f91f257",
   "metadata": {},
   "outputs": [
    {
     "data": {
      "text/plain": [
       "array([71, 60, 24, 53, 94, 56, 80, 46, 20, 28, 80, 83, 29, 64, 72, 19, 34,\n",
       "       74, 57, 29])"
      ]
     },
     "execution_count": 30,
     "metadata": {},
     "output_type": "execute_result"
    }
   ],
   "source": [
    "a"
   ]
  },
  {
   "cell_type": "code",
   "execution_count": 31,
   "id": "6cb8c7be",
   "metadata": {},
   "outputs": [
    {
     "data": {
      "text/plain": [
       "94.0"
      ]
     },
     "execution_count": 31,
     "metadata": {},
     "output_type": "execute_result"
    }
   ],
   "source": [
    "np.percentile(a,100) #(arrays, percintile rank)"
   ]
  },
  {
   "cell_type": "code",
   "execution_count": 32,
   "id": "4d4a6b1f",
   "metadata": {},
   "outputs": [
    {
     "data": {
      "text/plain": [
       "56.5"
      ]
     },
     "execution_count": 32,
     "metadata": {},
     "output_type": "execute_result"
    }
   ],
   "source": [
    "np.percentile(a,50)"
   ]
  },
  {
   "cell_type": "markdown",
   "id": "e1fdcd7d",
   "metadata": {},
   "source": [
    "np.histogram : Numpy has a built-in numpy.histogram() function which represents the frequency of data distribution in the graphical form."
   ]
  },
  {
   "cell_type": "code",
   "execution_count": 33,
   "id": "31d2cd46",
   "metadata": {},
   "outputs": [
    {
     "data": {
      "text/plain": [
       "(array([0, 1, 5, 1, 1, 3, 2, 3, 3, 1], dtype=int64),\n",
       " array([  0,  10,  20,  30,  40,  50,  60,  70,  80,  90, 100]))"
      ]
     },
     "execution_count": 33,
     "metadata": {},
     "output_type": "execute_result"
    }
   ],
   "source": [
    "# tells a frequency count\n",
    "np.histogram(a,bins=[0,10,20,30,40,50,60,70,80,90,100])"
   ]
  },
  {
   "cell_type": "markdown",
   "id": "9fae83e2",
   "metadata": {},
   "source": [
    "np.corrcoef(Correlation Coefficient) : Return Pearson product-moment correlation coefficients."
   ]
  },
  {
   "cell_type": "code",
   "execution_count": 36,
   "id": "f1f4ebc3",
   "metadata": {},
   "outputs": [
    {
     "data": {
      "text/plain": [
       "array([[1.        , 0.25344572],\n",
       "       [0.25344572, 1.        ]])"
      ]
     },
     "execution_count": 36,
     "metadata": {},
     "output_type": "execute_result"
    }
   ],
   "source": [
    "salary = np.array([20000,40000,25000,35000,60000])\n",
    "experience = np.array([1,3,2,4,2])\n",
    "\n",
    "np.corrcoef(salary,experience) #salary --> salary and expericence   experience --> salary and experience"
   ]
  },
  {
   "cell_type": "markdown",
   "id": "4beae988",
   "metadata": {},
   "source": [
    "np.isin : With the help of numpy.isin() method, we can see that one array having values are checked in a different numpy array having different elements with different sizes."
   ]
  },
  {
   "cell_type": "code",
   "execution_count": 37,
   "id": "274f285c",
   "metadata": {},
   "outputs": [
    {
     "data": {
      "text/plain": [
       "array([71, 60, 24, 53, 94, 56, 80, 46, 20, 28, 80, 83, 29, 64, 72, 19, 34,\n",
       "       74, 57, 29])"
      ]
     },
     "execution_count": 37,
     "metadata": {},
     "output_type": "execute_result"
    }
   ],
   "source": [
    "# for searching multiple items\n",
    "a"
   ]
  },
  {
   "cell_type": "code",
   "execution_count": 38,
   "id": "26798839",
   "metadata": {},
   "outputs": [
    {
     "data": {
      "text/plain": [
       "array([False,  True,  True, False, False, False, False, False, False,\n",
       "       False, False, False, False, False, False, False, False, False,\n",
       "       False, False])"
      ]
     },
     "execution_count": 38,
     "metadata": {},
     "output_type": "execute_result"
    }
   ],
   "source": [
    "np.isin(a,[60,24])"
   ]
  },
  {
   "cell_type": "code",
   "execution_count": 39,
   "id": "9e7d7062",
   "metadata": {},
   "outputs": [
    {
     "data": {
      "text/plain": [
       "array([60, 24])"
      ]
     },
     "execution_count": 39,
     "metadata": {},
     "output_type": "execute_result"
    }
   ],
   "source": [
    "a[np.isin(a,[60,24])]"
   ]
  },
  {
   "cell_type": "markdown",
   "id": "841d9d94",
   "metadata": {},
   "source": [
    "np.flip : The numpy.flip() function reverses the order of array elements along the specified axis, preserving the shape of the array."
   ]
  },
  {
   "cell_type": "code",
   "execution_count": 40,
   "id": "010bd19c",
   "metadata": {},
   "outputs": [
    {
     "data": {
      "text/plain": [
       "array([71, 60, 24, 53, 94, 56, 80, 46, 20, 28, 80, 83, 29, 64, 72, 19, 34,\n",
       "       74, 57, 29])"
      ]
     },
     "execution_count": 40,
     "metadata": {},
     "output_type": "execute_result"
    }
   ],
   "source": [
    "a"
   ]
  },
  {
   "cell_type": "code",
   "execution_count": 41,
   "id": "c2face11",
   "metadata": {},
   "outputs": [
    {
     "data": {
      "text/plain": [
       "array([29, 57, 74, 34, 19, 72, 64, 29, 83, 80, 28, 20, 46, 80, 56, 94, 53,\n",
       "       24, 60, 71])"
      ]
     },
     "execution_count": 41,
     "metadata": {},
     "output_type": "execute_result"
    }
   ],
   "source": [
    "np.flip(a)"
   ]
  },
  {
   "cell_type": "code",
   "execution_count": 42,
   "id": "6182a469",
   "metadata": {},
   "outputs": [
    {
     "data": {
      "text/plain": [
       "array([[38, 32, 21, 67],\n",
       "       [21, 95, 81, 45],\n",
       "       [46, 35, 42, 58],\n",
       "       [61, 32, 97, 68],\n",
       "       [31, 27, 76, 68]])"
      ]
     },
     "execution_count": 42,
     "metadata": {},
     "output_type": "execute_result"
    }
   ],
   "source": [
    "b"
   ]
  },
  {
   "cell_type": "code",
   "execution_count": 44,
   "id": "511c0258",
   "metadata": {},
   "outputs": [
    {
     "data": {
      "text/plain": [
       "array([[68, 76, 27, 31],\n",
       "       [68, 97, 32, 61],\n",
       "       [58, 42, 35, 46],\n",
       "       [45, 81, 95, 21],\n",
       "       [67, 21, 32, 38]])"
      ]
     },
     "execution_count": 44,
     "metadata": {},
     "output_type": "execute_result"
    }
   ],
   "source": [
    "np.flip(b) # rows amd columns both will be flipped"
   ]
  },
  {
   "cell_type": "markdown",
   "id": "52f5247e",
   "metadata": {},
   "source": [
    "np.put : The numpy.put() function replaces specific elements of an array with given values of p_array. Array indexed works on flattened array."
   ]
  },
  {
   "cell_type": "code",
   "execution_count": 45,
   "id": "d446211a",
   "metadata": {},
   "outputs": [
    {
     "data": {
      "text/plain": [
       "array([71, 60, 24, 53, 94, 56, 80, 46, 20, 28, 80, 83, 29, 64, 72, 19, 34,\n",
       "       74, 57, 29])"
      ]
     },
     "execution_count": 45,
     "metadata": {},
     "output_type": "execute_result"
    }
   ],
   "source": [
    "a"
   ]
  },
  {
   "cell_type": "code",
   "execution_count": 49,
   "id": "3249fe65",
   "metadata": {},
   "outputs": [],
   "source": [
    "# 71 --> 1 and 60 --> 2\n",
    "np.put(a,[0,1],[1,2]) # (array,list of indexes,number you want)\n",
    "\n",
    "# this function performs permanent changes"
   ]
  },
  {
   "cell_type": "code",
   "execution_count": 50,
   "id": "dcd4ead2",
   "metadata": {},
   "outputs": [
    {
     "data": {
      "text/plain": [
       "array([ 1,  2, 24, 53, 94, 56, 80, 46, 20, 28, 80, 83, 29, 64, 72, 19, 34,\n",
       "       74, 57, 29])"
      ]
     },
     "execution_count": 50,
     "metadata": {},
     "output_type": "execute_result"
    }
   ],
   "source": [
    "a"
   ]
  },
  {
   "cell_type": "markdown",
   "id": "0d5aa291",
   "metadata": {},
   "source": [
    "np.delete : The numpy.delete() function returns a new array with the deletion of sub-arrays along with the mentioned axis."
   ]
  },
  {
   "cell_type": "code",
   "execution_count": 51,
   "id": "409083cb",
   "metadata": {},
   "outputs": [
    {
     "data": {
      "text/plain": [
       "array([ 2, 24, 53, 94, 56, 80, 46, 20, 28, 80, 83, 29, 64, 72, 19, 34, 74,\n",
       "       57, 29])"
      ]
     },
     "execution_count": 51,
     "metadata": {},
     "output_type": "execute_result"
    }
   ],
   "source": [
    "np.delete(a,[0])"
   ]
  },
  {
   "cell_type": "markdown",
   "id": "2c117b3c",
   "metadata": {},
   "source": [
    "## Set Functions"
   ]
  },
  {
   "cell_type": "markdown",
   "id": "57e54c90",
   "metadata": {},
   "source": [
    "1. np.union1d\n",
    "2. np.intersect1d\n",
    "3. np.setdiff1d\n",
    "4. np.setxor1d\n",
    "5. np.in1d"
   ]
  },
  {
   "cell_type": "code",
   "execution_count": 52,
   "id": "bef9e4fe",
   "metadata": {},
   "outputs": [
    {
     "data": {
      "text/plain": [
       "array([1, 2, 3, 4, 5, 6, 7])"
      ]
     },
     "execution_count": 52,
     "metadata": {},
     "output_type": "execute_result"
    }
   ],
   "source": [
    "m = np.array([1,2,3,4,5])\n",
    "n = np.array([3,4,5,6,7])\n",
    "\n",
    "np.union1d(m,n) # all unique elements"
   ]
  },
  {
   "cell_type": "code",
   "execution_count": 53,
   "id": "fa16bde3",
   "metadata": {},
   "outputs": [
    {
     "data": {
      "text/plain": [
       "array([3, 4, 5])"
      ]
     },
     "execution_count": 53,
     "metadata": {},
     "output_type": "execute_result"
    }
   ],
   "source": [
    "np.intersect1d(m,n) # same elements"
   ]
  },
  {
   "cell_type": "code",
   "execution_count": 55,
   "id": "52c8e3eb",
   "metadata": {},
   "outputs": [
    {
     "data": {
      "text/plain": [
       "array([1, 2])"
      ]
     },
     "execution_count": 55,
     "metadata": {},
     "output_type": "execute_result"
    }
   ],
   "source": [
    "np.setdiff1d(m,n) # all items which are present in m and not in n"
   ]
  },
  {
   "cell_type": "code",
   "execution_count": 57,
   "id": "7742faeb",
   "metadata": {},
   "outputs": [
    {
     "data": {
      "text/plain": [
       "array([1, 2, 6, 7])"
      ]
     },
     "execution_count": 57,
     "metadata": {},
     "output_type": "execute_result"
    }
   ],
   "source": [
    "np.setxor1d(m,n) # remove common elements in both"
   ]
  },
  {
   "cell_type": "code",
   "execution_count": 59,
   "id": "5d50124b",
   "metadata": {},
   "outputs": [
    {
     "data": {
      "text/plain": [
       "array([False, False,  True,  True,  True])"
      ]
     },
     "execution_count": 59,
     "metadata": {},
     "output_type": "execute_result"
    }
   ],
   "source": [
    "np.in1d(m,n) # comparing m from n"
   ]
  },
  {
   "cell_type": "markdown",
   "id": "1d31b093",
   "metadata": {},
   "source": [
    "np.clip : numpy.clip() function is used to Clip (limit) the values in an array."
   ]
  },
  {
   "cell_type": "code",
   "execution_count": 60,
   "id": "c4a785f9",
   "metadata": {},
   "outputs": [
    {
     "data": {
      "text/plain": [
       "array([ 1,  2, 24, 53, 94, 56, 80, 46, 20, 28, 80, 83, 29, 64, 72, 19, 34,\n",
       "       74, 57, 29])"
      ]
     },
     "execution_count": 60,
     "metadata": {},
     "output_type": "execute_result"
    }
   ],
   "source": [
    "a"
   ]
  },
  {
   "cell_type": "code",
   "execution_count": 63,
   "id": "b8f06eff",
   "metadata": {},
   "outputs": [
    {
     "data": {
      "text/plain": [
       "array([53, 53, 53, 53, 80, 56, 80, 53, 53, 53, 80, 80, 53, 64, 72, 53, 53,\n",
       "       74, 57, 53])"
      ]
     },
     "execution_count": 63,
     "metadata": {},
     "output_type": "execute_result"
    }
   ],
   "source": [
    "np.clip(a,a_min=53,a_max=80) \n",
    "\n",
    "# all values which are less than 53 will clipped to 53 and greater than 80 will clipped to 80"
   ]
  }
 ],
 "metadata": {
  "kernelspec": {
   "display_name": "Python 3 (ipykernel)",
   "language": "python",
   "name": "python3"
  },
  "language_info": {
   "codemirror_mode": {
    "name": "ipython",
    "version": 3
   },
   "file_extension": ".py",
   "mimetype": "text/x-python",
   "name": "python",
   "nbconvert_exporter": "python",
   "pygments_lexer": "ipython3",
   "version": "3.9.7"
  }
 },
 "nbformat": 4,
 "nbformat_minor": 5
}
